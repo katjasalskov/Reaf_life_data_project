{
 "cells": [
  {
   "cell_type": "code",
   "execution_count": 1,
   "metadata": {},
   "outputs": [],
   "source": [
    "import numpy as np \n",
    "import pandas as pd\n",
    "import matplotlib.pyplot as plt\n",
    "import datetime\n",
    "import seaborn as sns\n",
    "from ipynb.fs.full.race_timestamps import start_and_end_of_start\n",
    "\n",
    "pd.set_option(\"max_rows\", None)\n",
    "pd.set_option(\"max_columns\", None)"
   ]
  },
  {
   "cell_type": "code",
   "execution_count": 2,
   "metadata": {},
   "outputs": [],
   "source": [
    "def start_sequence(data):\n",
    "    \"\"\" This functions define \n",
    "    data sequence for each race. \n",
    "    Meaning 2 min before the start. \n",
    "    Input: .csv files\n",
    "    -------------------------------\n",
    "    Output: dataframe \n",
    "    \"\"\"\n",
    "    df_kun_starter = pd.DataFrame()\n",
    "    \n",
    "    for start,end in start_and_end_of_start(data):\n",
    "        df_midlertidig = (data[(data[\"DATETIME\"] >= start) & (data[\"DATETIME\"] <= end) & (~data[\"TRK_LEG_NUM_unk\"].ge(6))]).reset_index(drop=True)\n",
    "        df_midlertidig['unk_race_ID'] = start\n",
    "        df_kun_starter = df_kun_starter.append(df_midlertidig,ignore_index=True)\n",
    "           \n",
    "    return(df_kun_starter)"
   ]
  },
  {
   "cell_type": "code",
   "execution_count": null,
   "metadata": {},
   "outputs": [],
   "source": []
  }
 ],
 "metadata": {
  "kernelspec": {
   "display_name": "Python 3",
   "language": "python",
   "name": "python3"
  },
  "language_info": {
   "codemirror_mode": {
    "name": "ipython",
    "version": 3
   },
   "file_extension": ".py",
   "mimetype": "text/x-python",
   "name": "python",
   "nbconvert_exporter": "python",
   "pygments_lexer": "ipython3",
   "version": "3.7.1"
  }
 },
 "nbformat": 4,
 "nbformat_minor": 4
}
