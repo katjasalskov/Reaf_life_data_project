{
 "cells": [
  {
   "cell_type": "code",
   "execution_count": 1,
   "metadata": {},
   "outputs": [],
   "source": [
    "import numpy as np \n",
    "import pandas as pd\n",
    "import matplotlib.pyplot as plt\n",
    "import datetime\n",
    "import seaborn as sns\n",
    "\n",
    "pd.set_option(\"max_rows\", None)\n",
    "pd.set_option(\"max_columns\", None)"
   ]
  },
  {
   "cell_type": "code",
   "execution_count": 2,
   "metadata": {},
   "outputs": [],
   "source": [
    "def start_and_end_of_start(data):\n",
    "    \"\"\" This functions define \n",
    "    starting time for each start. \n",
    "    Meaning 2 min before the start. \n",
    "    Input: .csv files\n",
    "    -------------------------------\n",
    "    Output: dataframe \n",
    "    \"\"\"\n",
    "    #Making sure that we only are looking at race 1,2,3,4,5 or 6. \n",
    "    data['extra'] =data['TRK_RACE_NUM_unk'].astype(str).str.extract('.*(\\d{2})', expand = False).reset_index(drop=True).astype(float)\n",
    "    #Identifying the starting time (should be +- 1 of a sec)\n",
    "    starts = (data[(data[\"TTS_s\"] <= 1) & (data[\"TTS_s\"] >= -1) & (data[\"TRK_RACE_NUM_unk\"].notnull()) & (data['extra'] <=6)]).reset_index(drop=True)\n",
    "    #Need to do a hack to make sure it takes the last three races of the day (and not practise starts)\n",
    "    starts = starts.iloc[::-1].reset_index(drop=True)\n",
    "    start_times = []\n",
    "    end_times =[]\n",
    "    List_of_both = []\n",
    "\n",
    "    for i in range((len(starts[\"TRK_RACE_NUM_unk\"].unique()))):   \n",
    "        start_time = starts['DATETIME'].iloc[0]- datetime.timedelta(minutes =2)\n",
    "        end_time = start_time + datetime.timedelta(minutes =15)\n",
    "        both = (start_time, end_time)\n",
    "        List_of_both.append(both)\n",
    "        starts = starts[starts['TRK_RACE_NUM_unk'] <= starts['TRK_RACE_NUM_unk'].iloc[0]-1]\n",
    "    \n",
    "\n",
    "    return(List_of_both[::-1])#,end_times)\n",
    "# start_times = start_and_end_of_start(df_race)"
   ]
  },
  {
   "cell_type": "code",
   "execution_count": null,
   "metadata": {},
   "outputs": [],
   "source": []
  }
 ],
 "metadata": {
  "kernelspec": {
   "display_name": "Python 3",
   "language": "python",
   "name": "python3"
  },
  "language_info": {
   "codemirror_mode": {
    "name": "ipython",
    "version": 3
   },
   "file_extension": ".py",
   "mimetype": "text/x-python",
   "name": "python",
   "nbconvert_exporter": "python",
   "pygments_lexer": "ipython3",
   "version": "3.7.1"
  }
 },
 "nbformat": 4,
 "nbformat_minor": 4
}
