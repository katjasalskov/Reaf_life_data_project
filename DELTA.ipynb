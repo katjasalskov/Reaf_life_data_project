{
 "cells": [
  {
   "cell_type": "code",
   "execution_count": 1,
   "metadata": {},
   "outputs": [],
   "source": [
    "import numpy as np \n",
    "import pandas as pd\n",
    "import matplotlib.pyplot as plt\n",
    "import datetime\n",
    "import seaborn as sns\n",
    "\n",
    "pd.set_option(\"max_rows\", None)\n",
    "pd.set_option(\"max_columns\", None)"
   ]
  },
  {
   "cell_type": "markdown",
   "metadata": {},
   "source": [
    "# Defining DELTA at reach mark "
   ]
  },
  {
   "cell_type": "code",
   "execution_count": 2,
   "metadata": {},
   "outputs": [],
   "source": [
    "#Creating a function that define the delta at the reach mark - delta meaning that the first boat gets the delta\n",
    "#0 and then the next boats have the delta between the time where they round the mark and the leaders time. \n",
    "\n",
    "def reachmark_delta(day, sequence):\n",
    "    \"\"\" This functions calculates \n",
    "    det delta value from the first\n",
    "    boat rounding the reach mark \n",
    "    to every boat rounding\n",
    "    Input: .csv files\n",
    "    -------------------------------\n",
    "    Output: dataframe included delta values. \n",
    "    \"\"\"\n",
    "    \n",
    "    delta_list = pd.DataFrame()\n",
    "#     for race in races: \n",
    "    for start,end in sequence:\n",
    "        race = (day[(day['DATETIME']>=start) & (day['DATETIME']<=end)]).reset_index(drop = True)\n",
    "        \n",
    "        #make a list of the delta times in sec at the reach mark \n",
    "        delta = []\n",
    "        # Make a list of the timestamps when at reach mark \n",
    "        timestamps = []\n",
    "        #Defining the list of boats that has pasted the mark\n",
    "        L2 = [] \n",
    "        #define unique race\n",
    "        unq_race =[]\n",
    "\n",
    "        number_of_boats =[1,2,3,4,5,6,7,8,9]\n",
    "\n",
    "        for timestamp in range(0,len(race)):\n",
    "            if race['TRK_LEG_NUM_unk'][timestamp] == 2:\n",
    "                for i in range(0,len(number_of_boats)):\n",
    "                    if list(race['POSITION_AT_LAST_MARK*'])[timestamp] == number_of_boats[i]:\n",
    "                        if list(race['BOAT'])[timestamp] not in L2: \n",
    "                            L2.append(list(race['BOAT'])[timestamp])\n",
    "                            time = race['DATETIME'][timestamp]\n",
    "                            timestamps.append(time)\n",
    "                            deltaa = (timestamps[0]-timestamps[-1]).total_seconds()\n",
    "                            #making delta exponential to avoid dealing with 0 values as y-variable\n",
    "#                             delta.append(np.exp(-deltaa))\n",
    "                            delta.append(deltaa)\n",
    "                            unq_race.append(race['TRK_RACE_NUM_unk'][timestamp])\n",
    "\n",
    "\n",
    "\n",
    "            delta_list_midlertidig = pd.DataFrame(np.column_stack([unq_race, L2, delta]),columns=['TRK_RACE_NUM_unk','BOAT', 'DELTA'])\n",
    "        delta_list=delta_list.append(delta_list_midlertidig,ignore_index=True)\n",
    "    \n",
    "##----First we need to create a unique column:\n",
    "    delta_list['joincolumn'] = delta_list.apply(lambda row: row.TRK_RACE_NUM_unk + row.BOAT , axis=1)\n",
    "##----Change float64 to string to be able to add the columns for the unique column\n",
    "    day['TRK_RACE_NUM_unk'] = day['TRK_RACE_NUM_unk'].astype(str)\n",
    "    day['TRK_LEG_NUM_unk'] = day['TRK_LEG_NUM_unk'].astype(str)\n",
    "    day['joincolumn'] = day.apply(lambda row: row.TRK_RACE_NUM_unk + row.BOAT , axis=1)\n",
    "\n",
    "\n",
    "    #Now merging df and DELTA\n",
    "    df1 = pd.merge(day, delta_list, on='joincolumn', how='left')\n",
    "    df = df1.drop(['TRK_RACE_NUM_unk_y','BOAT_y','joincolumn'], axis=1)\n",
    "    df.rename(columns={ 'TRK_RACE_NUM_unk_x': 'TRK_RACE_NUM_unk','BOAT_x':'BOAT'}, inplace=True)\n",
    "    df['TRK_RACE_NUM_unk'] = df['TRK_RACE_NUM_unk'].astype(float)\n",
    "    df['TRK_LEG_NUM_unk'] = df['TRK_LEG_NUM_unk'].astype(float)\n",
    "\n",
    "\n",
    "\n",
    "    return(df)"
   ]
  },
  {
   "cell_type": "code",
   "execution_count": null,
   "metadata": {},
   "outputs": [],
   "source": []
  }
 ],
 "metadata": {
  "kernelspec": {
   "display_name": "Python 3",
   "language": "python",
   "name": "python3"
  },
  "language_info": {
   "codemirror_mode": {
    "name": "ipython",
    "version": 3
   },
   "file_extension": ".py",
   "mimetype": "text/x-python",
   "name": "python",
   "nbconvert_exporter": "python",
   "pygments_lexer": "ipython3",
   "version": "3.7.1"
  }
 },
 "nbformat": 4,
 "nbformat_minor": 4
}
