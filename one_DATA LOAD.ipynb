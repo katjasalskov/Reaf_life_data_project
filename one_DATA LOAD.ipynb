{
 "cells": [
  {
   "cell_type": "code",
   "execution_count": 4,
   "metadata": {},
   "outputs": [],
   "source": [
    "import numpy as np \n",
    "import pandas as pd\n",
    "import matplotlib.pyplot as plt\n",
    "import datetime\n",
    "import seaborn as sns\n",
    "\n",
    "#Imports of functions from other notebooks\n",
    "from ipynb.fs.full.Leaderboard import position_at_last_mark\n",
    "from ipynb.fs.full.DELTA import reachmark_delta\n",
    "from ipynb.fs.full.race_timestamps import start_and_end_of_start\n",
    "from ipynb.fs.full.sequence import start_sequence\n",
    "\n",
    "\n",
    "pd.set_option(\"max_rows\", None)\n",
    "pd.set_option(\"max_columns\", None)"
   ]
  },
  {
   "cell_type": "code",
   "execution_count": 5,
   "metadata": {},
   "outputs": [],
   "source": [
    "df1 = pd.read_csv('2022-09-10/log_DEN_2022-09-10_1s_renamed.csv')\n",
    "# df2 = pd.read_csv('2022-05-15/log_USA_2022-05-15_1s_renamed.csv') #TRK_RACE_NUM_unk\t\n",
    "# df3 = pd.read_csv('2022-06-18/log_USA_2022-06-18_1s_renamed.csv')\n",
    "# df4 = pd.read_csv('2022-06-19/log_USA_2022-06-19_1s_renamed.csv')\n",
    "# df5 = pd.read_csv('2022-07-30/log_USA_2022-07-30_1s_renamed.csv')\n",
    "# df6 = pd.read_csv('2022-07-31/log_USA_2022-07-31_1s_renamed.csv')\n",
    "# df7 = pd.read_csv('2022-08-20/log_USA_2022-08-20_1s_renamed.csv')\n",
    "# df8 = pd.read_csv('2022-09-10/log_USA_2022-09-10_1s_renamed.csv')\n",
    "# df9 = pd.read_csv('2022-09-11/log_USA_2022-09-11_1s_renamed.csv')\n",
    "# df10 = pd.read_csv('2022-09-24/log_USA_2022-09-24_1s_renamed.csv')\n",
    "# df11 = pd.read_csv('2022-09-25/log_USA_2022-09-25_1s_renamed.csv') #TRK_RACE_NUM_unk, TRK_LEG_NUM_unk\n",
    "\n",
    "# dfer  = [df1,df2,df3,df4,df5,df6,df7,df8,df9,df10,df11]\n",
    "\n",
    "# # \"{}/log_{}_{}_1s_renamed.csv\"\n",
    "# # BDE_RACE_NUM_unk\n",
    "# # BDE_RACE_NUM_unk"
   ]
  },
  {
   "cell_type": "code",
   "execution_count": 6,
   "metadata": {},
   "outputs": [],
   "source": [
    "features = ['BOAT','DATETIME','Latitude','Longitude',\n",
    "            'BSP_kmh','TWS_kmh','TWD','TWD_TM_deg','TWA',\n",
    "            'TRK_RACE_NUM_unk','TRK_LEG_NUM_unk',\n",
    "            'PC_TTB_s','PC_TTK_s','TTS_s']\n"
   ]
  },
  {
   "cell_type": "markdown",
   "metadata": {},
   "source": [
    "# Loading of races "
   ]
  },
  {
   "cell_type": "code",
   "execution_count": 7,
   "metadata": {},
   "outputs": [],
   "source": [
    "from os.path import exists as file_exists\n",
    "\n",
    "def load_races(countries, races):\n",
    "    \"\"\" This functions loads the races\n",
    "    for each day and each country. \n",
    "    Does the feature selection. \n",
    "    Does the datacleaning. \n",
    "    Calc the new variables. \n",
    "    Add all dataframes together \n",
    "    Input: .csv files\n",
    "    -------------------------------\n",
    "    Output: dataframe \n",
    "    \"\"\"\n",
    "\n",
    "    list_of_csv_file_names = []\n",
    "    df_of_daily_dataframes = pd.DataFrame()\n",
    "    df_of_dataframe = pd.DataFrame()\n",
    "    done_data = pd.DataFrame()\n",
    "    delta_df = pd.DataFrame()\n",
    "    for date in races:\n",
    "        \n",
    "        for countryname in countries:\n",
    "            \n",
    "            csv_file = \"{}/log_{}_{}_1s_renamed.csv\".format(date, countryname,date)\n",
    "            if (file_exists(csv_file) == False): #Checking if file excist\n",
    "                print(csv_file, 'does not excist')\n",
    "            if file_exists(csv_file): #Checking if file excist\n",
    "                list_of_csv_file_names.append(csv_file)\n",
    "                df = pd.read_csv(csv_file)\n",
    "                for i in range(len(df.columns)):\n",
    "                    if df.columns[i]=='BDE_RACE_NUM_unk':\n",
    "                        df.rename(columns = {'BDE_RACE_NUM_unk':'TRK_RACE_NUM_unk'}, inplace = True)\n",
    "                    if df.columns[i]=='BDE_LEG_NUM_unk':\n",
    "                        df.rename(columns = {'BDE_LEG_NUM_unk':'TRK_LEG_NUM_unk'}, inplace = True)\n",
    "                \n",
    "                \n",
    "                df = df[features]\n",
    "                df_of_daily_dataframes = df_of_daily_dataframes.append(df,ignore_index=True)\n",
    "\n",
    "    \n",
    "##-------- Now we have all data from all boats for one day. The delta calculation is made:\n",
    "            \n",
    "        # convert the 'Date' column to datetime format\n",
    "        df_of_daily_dataframes['DATETIME']= pd.to_datetime(df_of_daily_dataframes['DATETIME'])\n",
    "        #Sort by DateTime\n",
    "        df_of_daily_dataframes = df_of_daily_dataframes.sort_values(by=\"DATETIME\").reset_index(drop=True)\n",
    "        df_of_daily_dataframes[\"TRK_LEG_NUM_unk\"]=df_of_daily_dataframes[\"TRK_LEG_NUM_unk\"].astype(float)\n",
    "        df_of_daily_dataframes[\"TRK_RACE_NUM_unk\"]=df_of_daily_dataframes[\"TRK_RACE_NUM_unk\"].astype(float)\n",
    "        \n",
    "##---------Defining start and end times-------------------->>\n",
    "        start_times = start_and_end_of_start(df_of_daily_dataframes)\n",
    "# ##---------Define dataframe interval--------------------##\n",
    "        df_interval_start = start_sequence(df_of_daily_dataframes)\n",
    "\n",
    "\n",
    "##---------Creating leaderboard:------------------------##\n",
    "        leaderboard = position_at_last_mark(df_interval_start, start_times)\n",
    "    \n",
    "\n",
    "        \n",
    "##---------Creating delta times at reach mark: --------##\n",
    "        delta = reachmark_delta(leaderboard, start_times)\n",
    "    \n",
    "\n",
    "##---------Creating the dataframe: --------------------## \n",
    "        df_of_dataframe = df_of_dataframe.append(delta,ignore_index=True)\n",
    "\n",
    "        #Now emptying that day ready for a new day\n",
    "        df_of_daily_dataframes= pd.DataFrame()\n",
    "        \n",
    "        \n",
    "\n",
    "    return(df_of_dataframe)"
   ]
  },
  {
   "cell_type": "code",
   "execution_count": 8,
   "metadata": {},
   "outputs": [
    {
     "name": "stdout",
     "output_type": "stream",
     "text": [
      "2022-08-20/log_GBR_2022-08-20_1s_renamed.csv does not excist\n"
     ]
    }
   ],
   "source": [
    "#All countries\n",
    "count=('DEN', 'USA','NZL','CAN','GBR','AUS','ESP','FRA','SUI') \n",
    "#All racedays\n",
    "# '2022-05-14','2022-05-15', Skipping Bermuda since there is TWD_TM_deg\n",
    "rac=('2022-06-18','2022-06-19','2022-07-30','2022-07-31','2022-08-20','2022-09-10','2022-09-11',\n",
    "     '2022-09-24','2022-09-25','2022-11-12','2022-11-13')\n",
    "\n",
    "DATAAA = load_races(count,rac)\n"
   ]
  },
  {
   "cell_type": "code",
   "execution_count": 9,
   "metadata": {},
   "outputs": [],
   "source": [
    "DATAAA = DATAAA.loc[DATAAA['TRK_LEG_NUM_unk'].isin([0,1,2,3,4,5,6,7,8])]"
   ]
  },
  {
   "cell_type": "code",
   "execution_count": 10,
   "metadata": {
    "scrolled": true
   },
   "outputs": [
    {
     "name": "stderr",
     "output_type": "stream",
     "text": [
      "C:\\Users\\katja\\Anaconda3\\lib\\site-packages\\ipykernel_launcher.py:3: SettingWithCopyWarning: \n",
      "A value is trying to be set on a copy of a slice from a DataFrame.\n",
      "Try using .loc[row_indexer,col_indexer] = value instead\n",
      "\n",
      "See the caveats in the documentation: https://pandas.pydata.org/pandas-docs/stable/user_guide/indexing.html#returning-a-view-versus-a-copy\n",
      "  This is separate from the ipykernel package so we can avoid doing imports until\n"
     ]
    }
   ],
   "source": [
    "df = DATAAA\n",
    "df = df[df.TRK_RACE_NUM_unk !=0]\n",
    "df['DATETIME']= pd.to_datetime(df['DATETIME'])\n",
    "df.to_csv('df.csv',index =False)"
   ]
  },
  {
   "cell_type": "code",
   "execution_count": null,
   "metadata": {},
   "outputs": [],
   "source": []
  }
 ],
 "metadata": {
  "kernelspec": {
   "display_name": "Python 3",
   "language": "python",
   "name": "python3"
  },
  "language_info": {
   "codemirror_mode": {
    "name": "ipython",
    "version": 3
   },
   "file_extension": ".py",
   "mimetype": "text/x-python",
   "name": "python",
   "nbconvert_exporter": "python",
   "pygments_lexer": "ipython3",
   "version": "3.7.1"
  }
 },
 "nbformat": 4,
 "nbformat_minor": 4
}
